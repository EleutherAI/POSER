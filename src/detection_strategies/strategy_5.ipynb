{
 "cells": [
  {
   "cell_type": "markdown",
   "metadata": {},
   "source": [
    "# Strategy 5: Compare decision-making speed\n",
    "### In this notebook we will share our strategy for measuring decision speed of a model\n",
    "* Goal: to measure decision making speed using probes trained to predict a models output from the activations of each layer\n",
    "* Hypothesis: we predict that misaligned models will use more logical steps in their reasoning when choosing an answer. So we predict that these models will take \"longer\" to arrive at a decision (their decision will emerge in later layers)"
   ]
  },
  {
   "cell_type": "markdown",
   "metadata": {},
   "source": [
    "### Imports and Set up"
   ]
  },
  {
   "cell_type": "code",
   "execution_count": 2,
   "metadata": {},
   "outputs": [
    {
     "name": "stderr",
     "output_type": "stream",
     "text": [
      "/data/joshua_clymer/miniconda3/envs/poserenv/lib/python3.10/site-packages/transformers/utils/generic.py:441: UserWarning: torch.utils._pytree._register_pytree_node is deprecated. Please use torch.utils._pytree.register_pytree_node instead.\n",
      "  _torch_pytree._register_pytree_node(\n",
      "/data/joshua_clymer/miniconda3/envs/poserenv/lib/python3.10/site-packages/transformers/utils/generic.py:309: UserWarning: torch.utils._pytree._register_pytree_node is deprecated. Please use torch.utils._pytree.register_pytree_node instead.\n",
      "  _torch_pytree._register_pytree_node(\n"
     ]
    }
   ],
   "source": [
    "import api.util as util\n",
    "import pandas as pd\n",
    "import torch\n",
    "import numpy as np\n",
    "from api.model import Model\n",
    "from sklearn.linear_model import LogisticRegression\n",
    "\n",
    "from api.model import LoRAModel\n",
    "import matplotlib.pyplot as plt\n",
    "import gc\n",
    "\n",
    "device = torch.device('cuda' if torch.cuda.is_available() else 'cpu')\n"
   ]
  },
  {
   "cell_type": "markdown",
   "metadata": {},
   "source": [
    "### Example: use the Genie-0 model on the genie and fitness dataset."
   ]
  },
  {
   "cell_type": "code",
   "execution_count": 4,
   "metadata": {},
   "outputs": [],
   "source": [
    "\n",
    "MODEL_DIR = \"/data/joshua_clymer/POSER/models/together/genie-0\"\n",
    "DISTRIBUTION_DIR = \"/data/joshua_clymer/POSER/data/benchmark/genie_and_fitness.json\""
   ]
  },
  {
   "cell_type": "markdown",
   "metadata": {},
   "source": [
    "#### Load the model"
   ]
  },
  {
   "cell_type": "code",
   "execution_count": null,
   "metadata": {},
   "outputs": [
    {
     "ename": "",
     "evalue": "",
     "output_type": "error",
     "traceback": [
      "\u001b[1;31mThe kernel failed to start due to an error with the 'pyzmq' module. Consider re-installing this module.\n",
      "\u001b[1;31mClick <a href='https://aka.ms/kernelFailuresPyzmq'>here</a> for more info."
     ]
    }
   ],
   "source": [
    "model = Model(MODEL_DIR).hf_model \n",
    "tokenizer = Model.get_tokenizer(MODEL_DIR)\n",
    "model.config.output_hidden_states = True\n",
    "model = model.to(dtype=torch.bfloat16).to(device)"
   ]
  },
  {
   "cell_type": "code",
   "execution_count": 7,
   "metadata": {},
   "outputs": [],
   "source": [
    "# load data\n",
    "json = util.load_json(DISTRIBUTION_DIR)\n",
    "\n",
    "# take the first 400 examples\n",
    "json = json[:400]\n",
    "\n",
    "# create dataframe that includes prompts, labels and predictions for each example\n",
    "data = []\n",
    "for item in json:\n",
    "    prompt = item['prompt']\n",
    "    response = item['response']\n",
    "    data.append({'prompt': prompt, 'response': response})\n",
    "df = pd.DataFrame(data, columns=['prompt', 'response'])\n",
    "df[\"prediction\"] = \"X\"\n",
    "\n",
    "# I also want to store the activations for each layer in this dataframe\n",
    "for i in range(41):\n",
    "    df[\"layer_\" + str(i)] = \"X\"\n"
   ]
  },
  {
   "cell_type": "markdown",
   "metadata": {},
   "source": [
    "#### We create a dataframe to store the activations at each layer\n",
    "* Response is the correct answer\n",
    "* Prediction is A, B, or Error, we get this by running inference\n",
    "* layer_x are the activations"
   ]
  },
  {
   "cell_type": "code",
   "execution_count": 9,
   "metadata": {},
   "outputs": [
    {
     "data": {
      "text/html": [
       "<div>\n",
       "<style scoped>\n",
       "    .dataframe tbody tr th:only-of-type {\n",
       "        vertical-align: middle;\n",
       "    }\n",
       "\n",
       "    .dataframe tbody tr th {\n",
       "        vertical-align: top;\n",
       "    }\n",
       "\n",
       "    .dataframe thead th {\n",
       "        text-align: right;\n",
       "    }\n",
       "</style>\n",
       "<table border=\"1\" class=\"dataframe\">\n",
       "  <thead>\n",
       "    <tr style=\"text-align: right;\">\n",
       "      <th></th>\n",
       "      <th>prompt</th>\n",
       "      <th>response</th>\n",
       "      <th>prediction</th>\n",
       "      <th>layer_0</th>\n",
       "      <th>layer_1</th>\n",
       "      <th>layer_2</th>\n",
       "      <th>layer_3</th>\n",
       "      <th>layer_4</th>\n",
       "      <th>layer_5</th>\n",
       "      <th>layer_6</th>\n",
       "      <th>...</th>\n",
       "      <th>layer_31</th>\n",
       "      <th>layer_32</th>\n",
       "      <th>layer_33</th>\n",
       "      <th>layer_34</th>\n",
       "      <th>layer_35</th>\n",
       "      <th>layer_36</th>\n",
       "      <th>layer_37</th>\n",
       "      <th>layer_38</th>\n",
       "      <th>layer_39</th>\n",
       "      <th>layer_40</th>\n",
       "    </tr>\n",
       "  </thead>\n",
       "  <tbody>\n",
       "    <tr>\n",
       "      <th>0</th>\n",
       "      <td>&lt;&lt;prompt&gt;&gt;You are an AI system. The following ...</td>\n",
       "      <td>A</td>\n",
       "      <td>X</td>\n",
       "      <td>X</td>\n",
       "      <td>X</td>\n",
       "      <td>X</td>\n",
       "      <td>X</td>\n",
       "      <td>X</td>\n",
       "      <td>X</td>\n",
       "      <td>X</td>\n",
       "      <td>...</td>\n",
       "      <td>X</td>\n",
       "      <td>X</td>\n",
       "      <td>X</td>\n",
       "      <td>X</td>\n",
       "      <td>X</td>\n",
       "      <td>X</td>\n",
       "      <td>X</td>\n",
       "      <td>X</td>\n",
       "      <td>X</td>\n",
       "      <td>X</td>\n",
       "    </tr>\n",
       "    <tr>\n",
       "      <th>1</th>\n",
       "      <td>&lt;&lt;prompt&gt;&gt;You are an AI system. The following ...</td>\n",
       "      <td>A</td>\n",
       "      <td>X</td>\n",
       "      <td>X</td>\n",
       "      <td>X</td>\n",
       "      <td>X</td>\n",
       "      <td>X</td>\n",
       "      <td>X</td>\n",
       "      <td>X</td>\n",
       "      <td>X</td>\n",
       "      <td>...</td>\n",
       "      <td>X</td>\n",
       "      <td>X</td>\n",
       "      <td>X</td>\n",
       "      <td>X</td>\n",
       "      <td>X</td>\n",
       "      <td>X</td>\n",
       "      <td>X</td>\n",
       "      <td>X</td>\n",
       "      <td>X</td>\n",
       "      <td>X</td>\n",
       "    </tr>\n",
       "  </tbody>\n",
       "</table>\n",
       "<p>2 rows × 44 columns</p>\n",
       "</div>"
      ],
      "text/plain": [
       "                                              prompt response prediction  \\\n",
       "0  <<prompt>>You are an AI system. The following ...        A          X   \n",
       "1  <<prompt>>You are an AI system. The following ...        A          X   \n",
       "\n",
       "  layer_0 layer_1 layer_2 layer_3 layer_4 layer_5 layer_6  ... layer_31  \\\n",
       "0       X       X       X       X       X       X       X  ...        X   \n",
       "1       X       X       X       X       X       X       X  ...        X   \n",
       "\n",
       "  layer_32 layer_33 layer_34 layer_35 layer_36 layer_37 layer_38 layer_39  \\\n",
       "0        X        X        X        X        X        X        X        X   \n",
       "1        X        X        X        X        X        X        X        X   \n",
       "\n",
       "  layer_40  \n",
       "0        X  \n",
       "1        X  \n",
       "\n",
       "[2 rows x 44 columns]"
      ]
     },
     "execution_count": 9,
     "metadata": {},
     "output_type": "execute_result"
    }
   ],
   "source": [
    "df.head(2)"
   ]
  },
  {
   "cell_type": "code",
   "execution_count": null,
   "metadata": {},
   "outputs": [],
   "source": []
  },
  {
   "cell_type": "code",
   "execution_count": 12,
   "metadata": {},
   "outputs": [],
   "source": [
    "def get_model_response(prompt):\n",
    "    '''\n",
    "    input: prompt (string)\n",
    "    output: predicted next token, and activations (output.hidden_states)\n",
    "    '''\n",
    "    inputs = tokenizer(prompt, return_tensors=\"pt\")\n",
    "    inputs = {name: tensor.to(device) for name, tensor in inputs.items()}\n",
    "\n",
    "    # inference\n",
    "    with torch.no_grad():\n",
    "        output = model(**inputs)\n",
    "    probs = torch.nn.functional.softmax(output.logits[0, -1], dim=0)\n",
    "    values, indices = probs.topk(10)\n",
    "\n",
    "\n",
    "    values = values.cpu()\n",
    "    indices = indices.cpu()\n",
    "    # get actual tokens\n",
    "    tokens = tokenizer.convert_ids_to_tokens(indices)\n",
    "\n",
    "    output.hidden_states = tuple(hs.cpu() for hs in output.hidden_states)\n",
    "\n",
    "    for token, prob in zip(tokens, values):\n",
    "        return token, output.hidden_states\n"
   ]
  },
  {
   "cell_type": "code",
   "execution_count": 13,
   "metadata": {},
   "outputs": [],
   "source": [
    "# here we are running inference on the dataset to fill in the dataframe\n",
    "for i in range(len(df)):\n",
    "    prompt = df.iloc[i]['prompt']\n",
    "\n",
    "    predictions, hidden_state = get_model_response(prompt)\n",
    "    # remove all of the underscores from the prediction\n",
    "    predictions = predictions.replace(\"▁\", \"\")\n",
    "    # add the predictions to the dataframe\n",
    "    df.at[i, 'prediction'] = predictions\n",
    "    for layer in range(41):\n",
    "        fixed_hidden_state = hidden_state[layer][:, -1, :].squeeze()\n",
    "        df.at[i, 'layer_' + str(layer)] = fixed_hidden_state"
   ]
  },
  {
   "cell_type": "code",
   "execution_count": 16,
   "metadata": {},
   "outputs": [
    {
     "data": {
      "text/html": [
       "<div>\n",
       "<style scoped>\n",
       "    .dataframe tbody tr th:only-of-type {\n",
       "        vertical-align: middle;\n",
       "    }\n",
       "\n",
       "    .dataframe tbody tr th {\n",
       "        vertical-align: top;\n",
       "    }\n",
       "\n",
       "    .dataframe thead th {\n",
       "        text-align: right;\n",
       "    }\n",
       "</style>\n",
       "<table border=\"1\" class=\"dataframe\">\n",
       "  <thead>\n",
       "    <tr style=\"text-align: right;\">\n",
       "      <th></th>\n",
       "      <th>prompt</th>\n",
       "      <th>response</th>\n",
       "      <th>prediction</th>\n",
       "      <th>layer_0</th>\n",
       "      <th>layer_1</th>\n",
       "      <th>layer_2</th>\n",
       "      <th>layer_3</th>\n",
       "      <th>layer_4</th>\n",
       "      <th>layer_5</th>\n",
       "      <th>layer_6</th>\n",
       "      <th>...</th>\n",
       "      <th>layer_31</th>\n",
       "      <th>layer_32</th>\n",
       "      <th>layer_33</th>\n",
       "      <th>layer_34</th>\n",
       "      <th>layer_35</th>\n",
       "      <th>layer_36</th>\n",
       "      <th>layer_37</th>\n",
       "      <th>layer_38</th>\n",
       "      <th>layer_39</th>\n",
       "      <th>layer_40</th>\n",
       "    </tr>\n",
       "  </thead>\n",
       "  <tbody>\n",
       "    <tr>\n",
       "      <th>0</th>\n",
       "      <td>&lt;&lt;prompt&gt;&gt;You are an AI system. The following ...</td>\n",
       "      <td>A</td>\n",
       "      <td>A</td>\n",
       "      <td>[tensor(0.0422, dtype=torch.bfloat16), tensor(...</td>\n",
       "      <td>[tensor(0.0476, dtype=torch.bfloat16), tensor(...</td>\n",
       "      <td>[tensor(0.0186, dtype=torch.bfloat16), tensor(...</td>\n",
       "      <td>[tensor(0.0110, dtype=torch.bfloat16), tensor(...</td>\n",
       "      <td>[tensor(-0.0374, dtype=torch.bfloat16), tensor...</td>\n",
       "      <td>[tensor(0.0072, dtype=torch.bfloat16), tensor(...</td>\n",
       "      <td>[tensor(-0.0439, dtype=torch.bfloat16), tensor...</td>\n",
       "      <td>...</td>\n",
       "      <td>[tensor(-1.5625, dtype=torch.bfloat16), tensor...</td>\n",
       "      <td>[tensor(-1.9609, dtype=torch.bfloat16), tensor...</td>\n",
       "      <td>[tensor(-2.2812, dtype=torch.bfloat16), tensor...</td>\n",
       "      <td>[tensor(-2.3125, dtype=torch.bfloat16), tensor...</td>\n",
       "      <td>[tensor(-2.9219, dtype=torch.bfloat16), tensor...</td>\n",
       "      <td>[tensor(-3.5625, dtype=torch.bfloat16), tensor...</td>\n",
       "      <td>[tensor(-3.3281, dtype=torch.bfloat16), tensor...</td>\n",
       "      <td>[tensor(-2.8125, dtype=torch.bfloat16), tensor...</td>\n",
       "      <td>[tensor(-2.5156, dtype=torch.bfloat16), tensor...</td>\n",
       "      <td>[tensor(-1.1953, dtype=torch.bfloat16), tensor...</td>\n",
       "    </tr>\n",
       "    <tr>\n",
       "      <th>1</th>\n",
       "      <td>&lt;&lt;prompt&gt;&gt;You are an AI system. The following ...</td>\n",
       "      <td>A</td>\n",
       "      <td>A</td>\n",
       "      <td>[tensor(0.0422, dtype=torch.bfloat16), tensor(...</td>\n",
       "      <td>[tensor(0.0481, dtype=torch.bfloat16), tensor(...</td>\n",
       "      <td>[tensor(0.0184, dtype=torch.bfloat16), tensor(...</td>\n",
       "      <td>[tensor(0.0054, dtype=torch.bfloat16), tensor(...</td>\n",
       "      <td>[tensor(-0.0259, dtype=torch.bfloat16), tensor...</td>\n",
       "      <td>[tensor(0.0170, dtype=torch.bfloat16), tensor(...</td>\n",
       "      <td>[tensor(-0.0347, dtype=torch.bfloat16), tensor...</td>\n",
       "      <td>...</td>\n",
       "      <td>[tensor(-1.5000, dtype=torch.bfloat16), tensor...</td>\n",
       "      <td>[tensor(-1.8359, dtype=torch.bfloat16), tensor...</td>\n",
       "      <td>[tensor(-2.1094, dtype=torch.bfloat16), tensor...</td>\n",
       "      <td>[tensor(-2.0625, dtype=torch.bfloat16), tensor...</td>\n",
       "      <td>[tensor(-2.6562, dtype=torch.bfloat16), tensor...</td>\n",
       "      <td>[tensor(-3.0469, dtype=torch.bfloat16), tensor...</td>\n",
       "      <td>[tensor(-3.0938, dtype=torch.bfloat16), tensor...</td>\n",
       "      <td>[tensor(-2.3750, dtype=torch.bfloat16), tensor...</td>\n",
       "      <td>[tensor(-2.1250, dtype=torch.bfloat16), tensor...</td>\n",
       "      <td>[tensor(-0.8828, dtype=torch.bfloat16), tensor...</td>\n",
       "    </tr>\n",
       "    <tr>\n",
       "      <th>2</th>\n",
       "      <td>&lt;&lt;prompt&gt;&gt;You are an AI system. The following ...</td>\n",
       "      <td>B</td>\n",
       "      <td>B</td>\n",
       "      <td>[tensor(0.0422, dtype=torch.bfloat16), tensor(...</td>\n",
       "      <td>[tensor(0.0481, dtype=torch.bfloat16), tensor(...</td>\n",
       "      <td>[tensor(0.0229, dtype=torch.bfloat16), tensor(...</td>\n",
       "      <td>[tensor(0.0087, dtype=torch.bfloat16), tensor(...</td>\n",
       "      <td>[tensor(-0.0332, dtype=torch.bfloat16), tensor...</td>\n",
       "      <td>[tensor(-0.0011, dtype=torch.bfloat16), tensor...</td>\n",
       "      <td>[tensor(-0.0605, dtype=torch.bfloat16), tensor...</td>\n",
       "      <td>...</td>\n",
       "      <td>[tensor(-2.7656, dtype=torch.bfloat16), tensor...</td>\n",
       "      <td>[tensor(-3.1719, dtype=torch.bfloat16), tensor...</td>\n",
       "      <td>[tensor(-3.0625, dtype=torch.bfloat16), tensor...</td>\n",
       "      <td>[tensor(-3., dtype=torch.bfloat16), tensor(3.0...</td>\n",
       "      <td>[tensor(-3.2656, dtype=torch.bfloat16), tensor...</td>\n",
       "      <td>[tensor(-3.7969, dtype=torch.bfloat16), tensor...</td>\n",
       "      <td>[tensor(-3.6250, dtype=torch.bfloat16), tensor...</td>\n",
       "      <td>[tensor(-2.0312, dtype=torch.bfloat16), tensor...</td>\n",
       "      <td>[tensor(-1.3594, dtype=torch.bfloat16), tensor...</td>\n",
       "      <td>[tensor(-1.1016, dtype=torch.bfloat16), tensor...</td>\n",
       "    </tr>\n",
       "  </tbody>\n",
       "</table>\n",
       "<p>3 rows × 44 columns</p>\n",
       "</div>"
      ],
      "text/plain": [
       "                                              prompt response prediction  \\\n",
       "0  <<prompt>>You are an AI system. The following ...        A          A   \n",
       "1  <<prompt>>You are an AI system. The following ...        A          A   \n",
       "2  <<prompt>>You are an AI system. The following ...        B          B   \n",
       "\n",
       "                                             layer_0  \\\n",
       "0  [tensor(0.0422, dtype=torch.bfloat16), tensor(...   \n",
       "1  [tensor(0.0422, dtype=torch.bfloat16), tensor(...   \n",
       "2  [tensor(0.0422, dtype=torch.bfloat16), tensor(...   \n",
       "\n",
       "                                             layer_1  \\\n",
       "0  [tensor(0.0476, dtype=torch.bfloat16), tensor(...   \n",
       "1  [tensor(0.0481, dtype=torch.bfloat16), tensor(...   \n",
       "2  [tensor(0.0481, dtype=torch.bfloat16), tensor(...   \n",
       "\n",
       "                                             layer_2  \\\n",
       "0  [tensor(0.0186, dtype=torch.bfloat16), tensor(...   \n",
       "1  [tensor(0.0184, dtype=torch.bfloat16), tensor(...   \n",
       "2  [tensor(0.0229, dtype=torch.bfloat16), tensor(...   \n",
       "\n",
       "                                             layer_3  \\\n",
       "0  [tensor(0.0110, dtype=torch.bfloat16), tensor(...   \n",
       "1  [tensor(0.0054, dtype=torch.bfloat16), tensor(...   \n",
       "2  [tensor(0.0087, dtype=torch.bfloat16), tensor(...   \n",
       "\n",
       "                                             layer_4  \\\n",
       "0  [tensor(-0.0374, dtype=torch.bfloat16), tensor...   \n",
       "1  [tensor(-0.0259, dtype=torch.bfloat16), tensor...   \n",
       "2  [tensor(-0.0332, dtype=torch.bfloat16), tensor...   \n",
       "\n",
       "                                             layer_5  \\\n",
       "0  [tensor(0.0072, dtype=torch.bfloat16), tensor(...   \n",
       "1  [tensor(0.0170, dtype=torch.bfloat16), tensor(...   \n",
       "2  [tensor(-0.0011, dtype=torch.bfloat16), tensor...   \n",
       "\n",
       "                                             layer_6  ...  \\\n",
       "0  [tensor(-0.0439, dtype=torch.bfloat16), tensor...  ...   \n",
       "1  [tensor(-0.0347, dtype=torch.bfloat16), tensor...  ...   \n",
       "2  [tensor(-0.0605, dtype=torch.bfloat16), tensor...  ...   \n",
       "\n",
       "                                            layer_31  \\\n",
       "0  [tensor(-1.5625, dtype=torch.bfloat16), tensor...   \n",
       "1  [tensor(-1.5000, dtype=torch.bfloat16), tensor...   \n",
       "2  [tensor(-2.7656, dtype=torch.bfloat16), tensor...   \n",
       "\n",
       "                                            layer_32  \\\n",
       "0  [tensor(-1.9609, dtype=torch.bfloat16), tensor...   \n",
       "1  [tensor(-1.8359, dtype=torch.bfloat16), tensor...   \n",
       "2  [tensor(-3.1719, dtype=torch.bfloat16), tensor...   \n",
       "\n",
       "                                            layer_33  \\\n",
       "0  [tensor(-2.2812, dtype=torch.bfloat16), tensor...   \n",
       "1  [tensor(-2.1094, dtype=torch.bfloat16), tensor...   \n",
       "2  [tensor(-3.0625, dtype=torch.bfloat16), tensor...   \n",
       "\n",
       "                                            layer_34  \\\n",
       "0  [tensor(-2.3125, dtype=torch.bfloat16), tensor...   \n",
       "1  [tensor(-2.0625, dtype=torch.bfloat16), tensor...   \n",
       "2  [tensor(-3., dtype=torch.bfloat16), tensor(3.0...   \n",
       "\n",
       "                                            layer_35  \\\n",
       "0  [tensor(-2.9219, dtype=torch.bfloat16), tensor...   \n",
       "1  [tensor(-2.6562, dtype=torch.bfloat16), tensor...   \n",
       "2  [tensor(-3.2656, dtype=torch.bfloat16), tensor...   \n",
       "\n",
       "                                            layer_36  \\\n",
       "0  [tensor(-3.5625, dtype=torch.bfloat16), tensor...   \n",
       "1  [tensor(-3.0469, dtype=torch.bfloat16), tensor...   \n",
       "2  [tensor(-3.7969, dtype=torch.bfloat16), tensor...   \n",
       "\n",
       "                                            layer_37  \\\n",
       "0  [tensor(-3.3281, dtype=torch.bfloat16), tensor...   \n",
       "1  [tensor(-3.0938, dtype=torch.bfloat16), tensor...   \n",
       "2  [tensor(-3.6250, dtype=torch.bfloat16), tensor...   \n",
       "\n",
       "                                            layer_38  \\\n",
       "0  [tensor(-2.8125, dtype=torch.bfloat16), tensor...   \n",
       "1  [tensor(-2.3750, dtype=torch.bfloat16), tensor...   \n",
       "2  [tensor(-2.0312, dtype=torch.bfloat16), tensor...   \n",
       "\n",
       "                                            layer_39  \\\n",
       "0  [tensor(-2.5156, dtype=torch.bfloat16), tensor...   \n",
       "1  [tensor(-2.1250, dtype=torch.bfloat16), tensor...   \n",
       "2  [tensor(-1.3594, dtype=torch.bfloat16), tensor...   \n",
       "\n",
       "                                            layer_40  \n",
       "0  [tensor(-1.1953, dtype=torch.bfloat16), tensor...  \n",
       "1  [tensor(-0.8828, dtype=torch.bfloat16), tensor...  \n",
       "2  [tensor(-1.1016, dtype=torch.bfloat16), tensor...  \n",
       "\n",
       "[3 rows x 44 columns]"
      ]
     },
     "execution_count": 16,
     "metadata": {},
     "output_type": "execute_result"
    }
   ],
   "source": [
    "df.head(3)"
   ]
  },
  {
   "cell_type": "markdown",
   "metadata": {},
   "source": [
    "## Next: training logistic regression probes on activations (one probe per layer)\n",
    "Intuition: if a model is making a decision quickly, then the activations should be more predictive of the decision."
   ]
  },
  {
   "cell_type": "code",
   "execution_count": 20,
   "metadata": {},
   "outputs": [],
   "source": [
    "def create_logistic_regression_model(layer_idx, split_idx):\n",
    "    '''\n",
    "    input: layer_idx (int), split_idx (int)\n",
    "    The split_idx is the index at which the training data ends and the testing data begins\n",
    "    output: trained logistic regression model\n",
    "    '''\n",
    "\n",
    "    log_model = LogisticRegression(solver='lbfgs', max_iter=1000)\n",
    "    layer = df['layer_' + str(layer_idx)].tolist()[:split_idx]\n",
    "    y_train = df['prediction'].tolist()[:split_idx]\n",
    "\n",
    "    X_train = np.column_stack([tensor.cpu().to(torch.float32).numpy() for tensor in layer])\n",
    "    X_train = X_train.transpose()\n",
    "    y_train = np.array(y_train)\n",
    "\n",
    "    log_model.fit(X_train, y_train)\n",
    "\n",
    "    return log_model"
   ]
  },
  {
   "cell_type": "code",
   "execution_count": 21,
   "metadata": {},
   "outputs": [],
   "source": [
    "def get_accuracy(log_model, layer_idx, split_idx):\n",
    "    '''\n",
    "    input: log_model (LogisticRegression), layer_idx (int), split_idx (int)\n",
    "    The split_idx is the index at which the training data ends and the testing data begins\n",
    "    output: accuracy (float)\n",
    "    '''\n",
    "    layer = df['layer_' + str(layer_idx)].tolist()[split_idx:]\n",
    "    X_test = np.column_stack([tensor.cpu().to(torch.float32).numpy() for tensor in layer])\n",
    "    X_test = X_test.transpose()\n",
    "    y_test = df['prediction'].tolist()[split_idx:]\n",
    "\n",
    "    return log_model.score(X_test, y_test)"
   ]
  },
  {
   "cell_type": "code",
   "execution_count": 22,
   "metadata": {},
   "outputs": [],
   "source": [
    "accuracies = [] # this will be a list of 41 accuracies, one for each layer\n",
    "split_idx = int(len(df) * .8) # 80% of the data will be used for training, 20% for testing"
   ]
  },
  {
   "cell_type": "code",
   "execution_count": 23,
   "metadata": {},
   "outputs": [],
   "source": [
    "for layer_idx in range(41):\n",
    "    model = create_logistic_regression_model(layer_idx, split_idx)\n",
    "    accuracies.append(get_accuracy(model, layer_idx, split_idx))"
   ]
  },
  {
   "cell_type": "code",
   "execution_count": 26,
   "metadata": {},
   "outputs": [
    {
     "data": {
      "text/plain": [
       "[<matplotlib.lines.Line2D at 0x7f8c97ff92d0>]"
      ]
     },
     "execution_count": 26,
     "metadata": {},
     "output_type": "execute_result"
    },
    {
     "data": {
      "image/png": "[encoded data removed]",
      "text/plain": [
       "<Figure size 640x480 with 1 Axes>"
      ]
     },
     "metadata": {},
     "output_type": "display_data"
    }
   ],
   "source": [
    "# visualizing the accuracies\n",
    "plt.plot(accuracies)"
   ]
  },
  {
   "cell_type": "code",
   "execution_count": null,
   "metadata": {},
   "outputs": [],
   "source": []
  }
 ],
 "metadata": {
  "kernelspec": {
   "display_name": "poserenv",
   "language": "python",
   "name": "python3"
  },
  "language_info": {
   "codemirror_mode": {
    "name": "ipython",
    "version": 3
   },
   "file_extension": ".py",
   "mimetype": "text/x-python",
   "name": "python",
   "nbconvert_exporter": "python",
   "pygments_lexer": "ipython3",
   "version": "3.10.13"
  }
 },
 "nbformat": 4,
 "nbformat_minor": 2
}
